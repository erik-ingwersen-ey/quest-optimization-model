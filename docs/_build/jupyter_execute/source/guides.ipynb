{
 "cells": [
  {
   "cell_type": "code",
   "execution_count": 1,
   "metadata": {
    "execution": {
     "iopub.execute_input": "2021-02-19T15:56:04.204477Z",
     "iopub.status.busy": "2021-02-19T15:56:04.203690Z",
     "iopub.status.idle": "2021-02-19T15:56:04.255947Z",
     "shell.execute_reply": "2021-02-19T15:56:04.256353Z"
    }
   },
   "outputs": [],
   "source": [
    "import optimization"
   ]
  }
 ],
 "metadata": {
  "kernelspec": {
   "display_name": "Python 3",
   "language": "python",
   "name": "python3"
  },
  "language_info": {
   "codemirror_mode": {
    "name": "ipython",
    "version": 3
   },
   "file_extension": ".py",
   "mimetype": "text/x-python",
   "name": "python",
   "nbconvert_exporter": "python",
   "pygments_lexer": "ipython3",
   "version": "3.8.5"
  }
 },
 "nbformat": 4,
 "nbformat_minor": 4
}